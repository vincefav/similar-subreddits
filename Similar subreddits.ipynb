{
 "cells": [
  {
   "cell_type": "code",
   "execution_count": 2,
   "metadata": {
    "collapsed": true
   },
   "outputs": [],
   "source": [
    "import pandas as pd\n",
    "import numpy as np"
   ]
  },
  {
   "cell_type": "code",
   "execution_count": 25,
   "metadata": {
    "collapsed": false
   },
   "outputs": [
    {
     "data": {
      "text/plain": [
       "(58696, 22)"
      ]
     },
     "execution_count": 25,
     "metadata": {},
     "output_type": "execute_result"
    }
   ],
   "source": [
    "# Dataset I created with ~60,000 randomly selected comments\n",
    "data = pd.read_csv('reddit_comments_random.csv', low_memory=False)\n",
    "\n",
    "data.shape"
   ]
  },
  {
   "cell_type": "code",
   "execution_count": 26,
   "metadata": {
    "collapsed": false
   },
   "outputs": [
    {
     "data": {
      "text/plain": [
       "Index(['AskReddit', 'politics', 'nfl', 'The_Donald', 'pokemon', 'news',\n",
       "       'fantasyfootball', 'nba', 'pics', 'SquaredCircle',\n",
       "       ...\n",
       "       'BitcoinMarkets', 'Portland', 'Advice', 'NASCAR', 'pokemongo',\n",
       "       'ImGoingToHellForThis', 'CrappyDesign', 'Eyebleach',\n",
       "       'mildlyinfuriating', 'blogsnark'],\n",
       "      dtype='object', name='subreddit', length=321)"
      ]
     },
     "execution_count": 26,
     "metadata": {},
     "output_type": "execute_result"
    }
   ],
   "source": [
    "# Only use subreddits with 30+ comments\n",
    "\n",
    "top_subs_df = data.groupby('subreddit').count().sort_values('author', ascending=False)\n",
    "top_subs = top_subs_df[top_subs_df.author >= 30].index\n",
    "\n",
    "# Sorted by popularity\n",
    "top_subs"
   ]
  },
  {
   "cell_type": "code",
   "execution_count": 27,
   "metadata": {
    "collapsed": false
   },
   "outputs": [
    {
     "data": {
      "text/plain": [
       "(35628, 3)"
      ]
     },
     "execution_count": 27,
     "metadata": {},
     "output_type": "execute_result"
    }
   ],
   "source": [
    "# All we need is author and subreddit\n",
    "\n",
    "data = data[['author', 'subreddit']]\n",
    "data = data[data.subreddit.isin(top_subs)]\n",
    "\n",
    "# Create a binary \"commented\" so we can use it in a pivot table\n",
    "data['count'] = 1\n",
    "\n",
    "data.shape"
   ]
  },
  {
   "cell_type": "code",
   "execution_count": 28,
   "metadata": {
    "collapsed": false
   },
   "outputs": [],
   "source": [
    "# Create pivot table\n",
    "\n",
    "data = data.pivot_table(values='count', index='author', columns='subreddit')\n",
    "data.columns = data.columns.str.lower()\n",
    "data = data.fillna(0)"
   ]
  },
  {
   "cell_type": "code",
   "execution_count": 43,
   "metadata": {
    "collapsed": false
   },
   "outputs": [],
   "source": [
    "def correlated_subreddits(subreddit, threshold=.02):\n",
    "    '''\n",
    "    Calculates the correlation (overlap) in the userbase of different subreddits.\n",
    "    Sorts by absolute value to find dissimilar subs as well.\n",
    "    '''\n",
    "    corrs = pd.DataFrame(data.corrwith(data[subreddit]))\n",
    "    corrs['absol'] = abs(corrs[0])\n",
    "    corrs = corrs.sort_values('absol', ascending=False).drop('absol', axis=1)\n",
    "    corrs.columns = ['correlation']\n",
    "    return corrs[abs(corrs.correlation) > threshold]"
   ]
  },
  {
   "cell_type": "code",
   "execution_count": 38,
   "metadata": {
    "collapsed": false
   },
   "outputs": [
    {
     "name": "stdout",
     "output_type": "stream",
     "text": [
      "AskReddit\n",
      "politics\n",
      "nfl\n",
      "The_Donald\n",
      "pokemon\n",
      "news\n",
      "fantasyfootball\n",
      "nba\n",
      "pics\n",
      "SquaredCircle\n"
     ]
    }
   ],
   "source": [
    "for i in top_subs[:10]:\n",
    "    print(i)"
   ]
  },
  {
   "cell_type": "code",
   "execution_count": 39,
   "metadata": {
    "collapsed": false
   },
   "outputs": [
    {
     "data": {
      "text/html": [
       "<div>\n",
       "<style scoped>\n",
       "    .dataframe tbody tr th:only-of-type {\n",
       "        vertical-align: middle;\n",
       "    }\n",
       "\n",
       "    .dataframe tbody tr th {\n",
       "        vertical-align: top;\n",
       "    }\n",
       "\n",
       "    .dataframe thead th {\n",
       "        text-align: right;\n",
       "    }\n",
       "</style>\n",
       "<table border=\"1\" class=\"dataframe\">\n",
       "  <thead>\n",
       "    <tr style=\"text-align: right;\">\n",
       "      <th></th>\n",
       "      <th>correlation</th>\n",
       "    </tr>\n",
       "    <tr>\n",
       "      <th>subreddit</th>\n",
       "      <th></th>\n",
       "    </tr>\n",
       "  </thead>\n",
       "  <tbody>\n",
       "    <tr>\n",
       "      <th>askreddit</th>\n",
       "      <td>1.000000</td>\n",
       "    </tr>\n",
       "    <tr>\n",
       "      <th>politics</th>\n",
       "      <td>-0.052858</td>\n",
       "    </tr>\n",
       "    <tr>\n",
       "      <th>nfl</th>\n",
       "      <td>-0.051712</td>\n",
       "    </tr>\n",
       "    <tr>\n",
       "      <th>pokemon</th>\n",
       "      <td>-0.043229</td>\n",
       "    </tr>\n",
       "    <tr>\n",
       "      <th>fantasyfootball</th>\n",
       "      <td>-0.042865</td>\n",
       "    </tr>\n",
       "    <tr>\n",
       "      <th>the_donald</th>\n",
       "      <td>-0.042322</td>\n",
       "    </tr>\n",
       "    <tr>\n",
       "      <th>news</th>\n",
       "      <td>-0.039676</td>\n",
       "    </tr>\n",
       "    <tr>\n",
       "      <th>nba</th>\n",
       "      <td>-0.037932</td>\n",
       "    </tr>\n",
       "    <tr>\n",
       "      <th>leagueoflegends</th>\n",
       "      <td>-0.033001</td>\n",
       "    </tr>\n",
       "    <tr>\n",
       "      <th>gaming</th>\n",
       "      <td>-0.031625</td>\n",
       "    </tr>\n",
       "    <tr>\n",
       "      <th>squaredcircle</th>\n",
       "      <td>-0.031310</td>\n",
       "    </tr>\n",
       "    <tr>\n",
       "      <th>dota2</th>\n",
       "      <td>-0.031172</td>\n",
       "    </tr>\n",
       "    <tr>\n",
       "      <th>destinythegame</th>\n",
       "      <td>-0.030849</td>\n",
       "    </tr>\n",
       "    <tr>\n",
       "      <th>videos</th>\n",
       "      <td>-0.029897</td>\n",
       "    </tr>\n",
       "    <tr>\n",
       "      <th>cfb</th>\n",
       "      <td>-0.029648</td>\n",
       "    </tr>\n",
       "    <tr>\n",
       "      <th>funny</th>\n",
       "      <td>-0.029578</td>\n",
       "    </tr>\n",
       "    <tr>\n",
       "      <th>hockey</th>\n",
       "      <td>-0.029076</td>\n",
       "    </tr>\n",
       "    <tr>\n",
       "      <th>soccer</th>\n",
       "      <td>-0.028422</td>\n",
       "    </tr>\n",
       "    <tr>\n",
       "      <th>worldnews</th>\n",
       "      <td>-0.028372</td>\n",
       "    </tr>\n",
       "    <tr>\n",
       "      <th>ice_poseidon</th>\n",
       "      <td>-0.028354</td>\n",
       "    </tr>\n",
       "    <tr>\n",
       "      <th>pics</th>\n",
       "      <td>-0.026967</td>\n",
       "    </tr>\n",
       "    <tr>\n",
       "      <th>overwatch</th>\n",
       "      <td>-0.024648</td>\n",
       "    </tr>\n",
       "    <tr>\n",
       "      <th>fifa</th>\n",
       "      <td>-0.023897</td>\n",
       "    </tr>\n",
       "    <tr>\n",
       "      <th>rocketleagueexchange</th>\n",
       "      <td>-0.023828</td>\n",
       "    </tr>\n",
       "    <tr>\n",
       "      <th>relationships</th>\n",
       "      <td>-0.021500</td>\n",
       "    </tr>\n",
       "    <tr>\n",
       "      <th>bitcoin</th>\n",
       "      <td>-0.020931</td>\n",
       "    </tr>\n",
       "    <tr>\n",
       "      <th>todayilearned</th>\n",
       "      <td>-0.020882</td>\n",
       "    </tr>\n",
       "  </tbody>\n",
       "</table>\n",
       "</div>"
      ],
      "text/plain": [
       "                      correlation\n",
       "subreddit                        \n",
       "askreddit                1.000000\n",
       "politics                -0.052858\n",
       "nfl                     -0.051712\n",
       "pokemon                 -0.043229\n",
       "fantasyfootball         -0.042865\n",
       "the_donald              -0.042322\n",
       "news                    -0.039676\n",
       "nba                     -0.037932\n",
       "leagueoflegends         -0.033001\n",
       "gaming                  -0.031625\n",
       "squaredcircle           -0.031310\n",
       "dota2                   -0.031172\n",
       "destinythegame          -0.030849\n",
       "videos                  -0.029897\n",
       "cfb                     -0.029648\n",
       "funny                   -0.029578\n",
       "hockey                  -0.029076\n",
       "soccer                  -0.028422\n",
       "worldnews               -0.028372\n",
       "ice_poseidon            -0.028354\n",
       "pics                    -0.026967\n",
       "overwatch               -0.024648\n",
       "fifa                    -0.023897\n",
       "rocketleagueexchange    -0.023828\n",
       "relationships           -0.021500\n",
       "bitcoin                 -0.020931\n",
       "todayilearned           -0.020882"
      ]
     },
     "execution_count": 39,
     "metadata": {},
     "output_type": "execute_result"
    }
   ],
   "source": [
    "correlated_subreddits('askreddit')"
   ]
  },
  {
   "cell_type": "markdown",
   "metadata": {},
   "source": [
    "People in AskReddit are less likely to be gamers or politically active. They also tend to like sports less."
   ]
  },
  {
   "cell_type": "code",
   "execution_count": 40,
   "metadata": {
    "collapsed": false
   },
   "outputs": [
    {
     "data": {
      "text/html": [
       "<div>\n",
       "<style scoped>\n",
       "    .dataframe tbody tr th:only-of-type {\n",
       "        vertical-align: middle;\n",
       "    }\n",
       "\n",
       "    .dataframe tbody tr th {\n",
       "        vertical-align: top;\n",
       "    }\n",
       "\n",
       "    .dataframe thead th {\n",
       "        text-align: right;\n",
       "    }\n",
       "</style>\n",
       "<table border=\"1\" class=\"dataframe\">\n",
       "  <thead>\n",
       "    <tr style=\"text-align: right;\">\n",
       "      <th></th>\n",
       "      <th>correlation</th>\n",
       "    </tr>\n",
       "    <tr>\n",
       "      <th>subreddit</th>\n",
       "      <th></th>\n",
       "    </tr>\n",
       "  </thead>\n",
       "  <tbody>\n",
       "    <tr>\n",
       "      <th>politics</th>\n",
       "      <td>1.000000</td>\n",
       "    </tr>\n",
       "    <tr>\n",
       "      <th>askreddit</th>\n",
       "      <td>-0.052858</td>\n",
       "    </tr>\n",
       "    <tr>\n",
       "      <th>nfl</th>\n",
       "      <td>-0.032401</td>\n",
       "    </tr>\n",
       "    <tr>\n",
       "      <th>pokemon</th>\n",
       "      <td>-0.029808</td>\n",
       "    </tr>\n",
       "    <tr>\n",
       "      <th>nba</th>\n",
       "      <td>-0.024717</td>\n",
       "    </tr>\n",
       "    <tr>\n",
       "      <th>fantasyfootball</th>\n",
       "      <td>-0.023669</td>\n",
       "    </tr>\n",
       "    <tr>\n",
       "      <th>the_donald</th>\n",
       "      <td>-0.023257</td>\n",
       "    </tr>\n",
       "    <tr>\n",
       "      <th>the_mueller</th>\n",
       "      <td>0.022409</td>\n",
       "    </tr>\n",
       "    <tr>\n",
       "      <th>squaredcircle</th>\n",
       "      <td>-0.021383</td>\n",
       "    </tr>\n",
       "    <tr>\n",
       "      <th>leagueoflegends</th>\n",
       "      <td>-0.020215</td>\n",
       "    </tr>\n",
       "  </tbody>\n",
       "</table>\n",
       "</div>"
      ],
      "text/plain": [
       "                 correlation\n",
       "subreddit                   \n",
       "politics            1.000000\n",
       "askreddit          -0.052858\n",
       "nfl                -0.032401\n",
       "pokemon            -0.029808\n",
       "nba                -0.024717\n",
       "fantasyfootball    -0.023669\n",
       "the_donald         -0.023257\n",
       "the_mueller         0.022409\n",
       "squaredcircle      -0.021383\n",
       "leagueoflegends    -0.020215"
      ]
     },
     "execution_count": 40,
     "metadata": {},
     "output_type": "execute_result"
    }
   ],
   "source": [
    "correlated_subreddits('politics')"
   ]
  },
  {
   "cell_type": "markdown",
   "metadata": {},
   "source": [
    "Again, we see people who like politics on reddit tend to like football and video games less. They also tend to be liberal, preferring Bob Mueller over Donald Trump."
   ]
  },
  {
   "cell_type": "code",
   "execution_count": 41,
   "metadata": {
    "collapsed": false
   },
   "outputs": [
    {
     "data": {
      "text/html": [
       "<div>\n",
       "<style scoped>\n",
       "    .dataframe tbody tr th:only-of-type {\n",
       "        vertical-align: middle;\n",
       "    }\n",
       "\n",
       "    .dataframe tbody tr th {\n",
       "        vertical-align: top;\n",
       "    }\n",
       "\n",
       "    .dataframe thead th {\n",
       "        text-align: right;\n",
       "    }\n",
       "</style>\n",
       "<table border=\"1\" class=\"dataframe\">\n",
       "  <thead>\n",
       "    <tr style=\"text-align: right;\">\n",
       "      <th></th>\n",
       "      <th>correlation</th>\n",
       "    </tr>\n",
       "    <tr>\n",
       "      <th>subreddit</th>\n",
       "      <th></th>\n",
       "    </tr>\n",
       "  </thead>\n",
       "  <tbody>\n",
       "    <tr>\n",
       "      <th>nfl</th>\n",
       "      <td>1.000000</td>\n",
       "    </tr>\n",
       "    <tr>\n",
       "      <th>askreddit</th>\n",
       "      <td>-0.051712</td>\n",
       "    </tr>\n",
       "    <tr>\n",
       "      <th>politics</th>\n",
       "      <td>-0.032401</td>\n",
       "    </tr>\n",
       "    <tr>\n",
       "      <th>denverbroncos</th>\n",
       "      <td>0.030685</td>\n",
       "    </tr>\n",
       "    <tr>\n",
       "      <th>patriots</th>\n",
       "      <td>0.029740</td>\n",
       "    </tr>\n",
       "    <tr>\n",
       "      <th>pokemon</th>\n",
       "      <td>-0.025803</td>\n",
       "    </tr>\n",
       "    <tr>\n",
       "      <th>the_donald</th>\n",
       "      <td>-0.025633</td>\n",
       "    </tr>\n",
       "    <tr>\n",
       "      <th>pics</th>\n",
       "      <td>-0.020857</td>\n",
       "    </tr>\n",
       "    <tr>\n",
       "      <th>news</th>\n",
       "      <td>-0.020417</td>\n",
       "    </tr>\n",
       "  </tbody>\n",
       "</table>\n",
       "</div>"
      ],
      "text/plain": [
       "               correlation\n",
       "subreddit                 \n",
       "nfl               1.000000\n",
       "askreddit        -0.051712\n",
       "politics         -0.032401\n",
       "denverbroncos     0.030685\n",
       "patriots          0.029740\n",
       "pokemon          -0.025803\n",
       "the_donald       -0.025633\n",
       "pics             -0.020857\n",
       "news             -0.020417"
      ]
     },
     "execution_count": 41,
     "metadata": {},
     "output_type": "execute_result"
    }
   ],
   "source": [
    "correlated_subreddits('nfl')"
   ]
  },
  {
   "cell_type": "markdown",
   "metadata": {},
   "source": [
    "People who like football tend to stick to other sports subs. They're fairly apolitical but don't really care for Trump either. So what are the characteristics of t_d posters?"
   ]
  },
  {
   "cell_type": "code",
   "execution_count": 45,
   "metadata": {
    "collapsed": false
   },
   "outputs": [
    {
     "data": {
      "text/html": [
       "<div>\n",
       "<style scoped>\n",
       "    .dataframe tbody tr th:only-of-type {\n",
       "        vertical-align: middle;\n",
       "    }\n",
       "\n",
       "    .dataframe tbody tr th {\n",
       "        vertical-align: top;\n",
       "    }\n",
       "\n",
       "    .dataframe thead th {\n",
       "        text-align: right;\n",
       "    }\n",
       "</style>\n",
       "<table border=\"1\" class=\"dataframe\">\n",
       "  <thead>\n",
       "    <tr style=\"text-align: right;\">\n",
       "      <th></th>\n",
       "      <th>correlation</th>\n",
       "    </tr>\n",
       "    <tr>\n",
       "      <th>subreddit</th>\n",
       "      <th></th>\n",
       "    </tr>\n",
       "  </thead>\n",
       "  <tbody>\n",
       "    <tr>\n",
       "      <th>the_donald</th>\n",
       "      <td>1.000000</td>\n",
       "    </tr>\n",
       "    <tr>\n",
       "      <th>askreddit</th>\n",
       "      <td>-0.042322</td>\n",
       "    </tr>\n",
       "    <tr>\n",
       "      <th>nfl</th>\n",
       "      <td>-0.025633</td>\n",
       "    </tr>\n",
       "    <tr>\n",
       "      <th>politics</th>\n",
       "      <td>-0.023257</td>\n",
       "    </tr>\n",
       "    <tr>\n",
       "      <th>pokemon</th>\n",
       "      <td>-0.021360</td>\n",
       "    </tr>\n",
       "    <tr>\n",
       "      <th>news</th>\n",
       "      <td>-0.019310</td>\n",
       "    </tr>\n",
       "    <tr>\n",
       "      <th>nba</th>\n",
       "      <td>-0.018492</td>\n",
       "    </tr>\n",
       "    <tr>\n",
       "      <th>fantasyfootball</th>\n",
       "      <td>-0.017900</td>\n",
       "    </tr>\n",
       "    <tr>\n",
       "      <th>photoshopbattles</th>\n",
       "      <td>0.017627</td>\n",
       "    </tr>\n",
       "  </tbody>\n",
       "</table>\n",
       "</div>"
      ],
      "text/plain": [
       "                  correlation\n",
       "subreddit                    \n",
       "the_donald           1.000000\n",
       "askreddit           -0.042322\n",
       "nfl                 -0.025633\n",
       "politics            -0.023257\n",
       "pokemon             -0.021360\n",
       "news                -0.019310\n",
       "nba                 -0.018492\n",
       "fantasyfootball     -0.017900\n",
       "photoshopbattles     0.017627"
      ]
     },
     "execution_count": 45,
     "metadata": {},
     "output_type": "execute_result"
    }
   ],
   "source": [
    "correlated_subreddits('the_donald', threshold=.015)"
   ]
  },
  {
   "cell_type": "markdown",
   "metadata": {},
   "source": [
    "They don't like sports or the other news/political subreddits. They only thing they *do* like are photoshop battles. (Keep in mind these overlaps are tiny.)"
   ]
  },
  {
   "cell_type": "code",
   "execution_count": null,
   "metadata": {
    "collapsed": true
   },
   "outputs": [],
   "source": []
  }
 ],
 "metadata": {
  "anaconda-cloud": {},
  "kernelspec": {
   "display_name": "Python [conda root]",
   "language": "python",
   "name": "conda-root-py"
  },
  "language_info": {
   "codemirror_mode": {
    "name": "ipython",
    "version": 3
   },
   "file_extension": ".py",
   "mimetype": "text/x-python",
   "name": "python",
   "nbconvert_exporter": "python",
   "pygments_lexer": "ipython3",
   "version": "3.5.2"
  }
 },
 "nbformat": 4,
 "nbformat_minor": 1
}
